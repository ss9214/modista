{
 "cells": [
  {
   "cell_type": "code",
   "execution_count": 3,
   "metadata": {},
   "outputs": [
    {
     "ename": "FileNotFoundError",
     "evalue": "[Errno 2] No such file or directory: 'extracted_images/img_0.png'",
     "output_type": "error",
     "traceback": [
      "\u001b[0;31m---------------------------------------------------------------------------\u001b[0m",
      "\u001b[0;31mFileNotFoundError\u001b[0m                         Traceback (most recent call last)",
      "Cell \u001b[0;32mIn[3], line 15\u001b[0m\n\u001b[1;32m     13\u001b[0m \u001b[39mfor\u001b[39;00m x, img \u001b[39min\u001b[39;00m \u001b[39menumerate\u001b[39m(wb\u001b[39m.\u001b[39m_images):\n\u001b[1;32m     14\u001b[0m     img \u001b[39m=\u001b[39m Image\u001b[39m.\u001b[39mopen(io\u001b[39m.\u001b[39mBytesIO(img\u001b[39m.\u001b[39m_data()))\n\u001b[0;32m---> 15\u001b[0m     img\u001b[39m.\u001b[39;49msave(\u001b[39mf\u001b[39;49m\u001b[39m'\u001b[39;49m\u001b[39mextracted_images/img_\u001b[39;49m\u001b[39m{\u001b[39;49;00mx\u001b[39m}\u001b[39;49;00m\u001b[39m.png\u001b[39;49m\u001b[39m'\u001b[39;49m) \u001b[39m#TODO: is png best for MongoDB?\u001b[39;00m\n\u001b[1;32m     17\u001b[0m df \u001b[39m=\u001b[39m pd\u001b[39m.\u001b[39mread_excel(dataset_path)\n\u001b[1;32m     18\u001b[0m img_paths \u001b[39m=\u001b[39m [os\u001b[39m.\u001b[39mpath\u001b[39m.\u001b[39mjoin(img_directory_path, \u001b[39mf\u001b[39m\u001b[39m'\u001b[39m\u001b[39mimg_\u001b[39m\u001b[39m{\u001b[39;00mx\u001b[39m}\u001b[39;00m\u001b[39m'\u001b[39m) \u001b[39mfor\u001b[39;00m x \u001b[39min\u001b[39;00m \u001b[39mrange\u001b[39m(\u001b[39mlen\u001b[39m(df))]\n",
      "File \u001b[0;32m/Library/Frameworks/Python.framework/Versions/3.12/lib/python3.12/site-packages/PIL/Image.py:2436\u001b[0m, in \u001b[0;36mImage.save\u001b[0;34m(self, fp, format, **params)\u001b[0m\n\u001b[1;32m   2434\u001b[0m         fp \u001b[39m=\u001b[39m builtins\u001b[39m.\u001b[39mopen(filename, \u001b[39m\"\u001b[39m\u001b[39mr+b\u001b[39m\u001b[39m\"\u001b[39m)\n\u001b[1;32m   2435\u001b[0m     \u001b[39melse\u001b[39;00m:\n\u001b[0;32m-> 2436\u001b[0m         fp \u001b[39m=\u001b[39m builtins\u001b[39m.\u001b[39;49mopen(filename, \u001b[39m\"\u001b[39;49m\u001b[39mw+b\u001b[39;49m\u001b[39m\"\u001b[39;49m)\n\u001b[1;32m   2438\u001b[0m \u001b[39mtry\u001b[39;00m:\n\u001b[1;32m   2439\u001b[0m     save_handler(\u001b[39mself\u001b[39m, fp, filename)\n",
      "\u001b[0;31mFileNotFoundError\u001b[0m: [Errno 2] No such file or directory: 'extracted_images/img_0.png'"
     ]
    }
   ],
   "source": [
    "#extracting images from xlsx\n",
    "from openpyxl import load_workbook\n",
    "from PIL import Image\n",
    "import io\n",
    "import pandas as pd\n",
    "import os\n",
    "\n",
    "dataset_path = 'HackUMass Data.xlsx'\n",
    "img_directory_path = 'ML Pipeline/extracted_images'\n",
    "updated_path = '/Users/alishasrivastava/Desktop/ML Pipeline/updated.csv'\n",
    "\n",
    "wb = load_workbook('HackUMass Data.xlsx')['Sheet1']\n",
    "for x, img in enumerate(wb._images):\n",
    "    img = Image.open(io.BytesIO(img._data()))\n",
    "    img.save(f'extracted_images/img_{x}.png') #TODO: is png best for MongoDB?\n",
    "\n",
    "df = pd.read_excel(dataset_path)\n",
    "img_paths = [os.path.join(img_directory_path, f'img_{x}') for x in range(len(df))]\n",
    "df['img_paths'] = img_paths\n",
    "df.to_csv(updated_path, index = False)\n"
   ]
  },
  {
   "cell_type": "code",
   "execution_count": null,
   "metadata": {},
   "outputs": [],
   "source": [
    "import pandas as pd\n",
    "import numpy as np\n",
    "import tensorflow as tf\n",
    "from sklearn.model_selection import train_test_split\n",
    "from sklearn.preprocessing import LabelEncoder\n",
    "from sklearn.preprocessing import OneHotEncoder\n",
    "import os"
   ]
  },
  {
   "cell_type": "code",
   "execution_count": 4,
   "metadata": {},
   "outputs": [
    {
     "data": {
      "text/html": [
       "<div>\n",
       "<style scoped>\n",
       "    .dataframe tbody tr th:only-of-type {\n",
       "        vertical-align: middle;\n",
       "    }\n",
       "\n",
       "    .dataframe tbody tr th {\n",
       "        vertical-align: top;\n",
       "    }\n",
       "\n",
       "    .dataframe thead th {\n",
       "        text-align: right;\n",
       "    }\n",
       "</style>\n",
       "<table border=\"1\" class=\"dataframe\">\n",
       "  <thead>\n",
       "    <tr style=\"text-align: right;\">\n",
       "      <th></th>\n",
       "      <th>Images</th>\n",
       "      <th>Category</th>\n",
       "      <th>subCategory</th>\n",
       "      <th>articleType</th>\n",
       "      <th>Color</th>\n",
       "      <th>Season</th>\n",
       "      <th>Usage</th>\n",
       "      <th>Gender</th>\n",
       "      <th>img_paths</th>\n",
       "    </tr>\n",
       "  </thead>\n",
       "  <tbody>\n",
       "    <tr>\n",
       "      <th>0</th>\n",
       "      <td>NaN</td>\n",
       "      <td>Apparel</td>\n",
       "      <td>Tops</td>\n",
       "      <td>Strapless Top</td>\n",
       "      <td>Maroon</td>\n",
       "      <td>Summer</td>\n",
       "      <td>Casual</td>\n",
       "      <td>Female</td>\n",
       "      <td>/Users/alishasrivastava/Desktop/ML Pipeline/ex...</td>\n",
       "    </tr>\n",
       "    <tr>\n",
       "      <th>1</th>\n",
       "      <td>NaN</td>\n",
       "      <td>Apparel</td>\n",
       "      <td>Outerwear</td>\n",
       "      <td>Puffer Jacket</td>\n",
       "      <td>White</td>\n",
       "      <td>Winter</td>\n",
       "      <td>Casual</td>\n",
       "      <td>Unisex</td>\n",
       "      <td>/Users/alishasrivastava/Desktop/ML Pipeline/ex...</td>\n",
       "    </tr>\n",
       "    <tr>\n",
       "      <th>2</th>\n",
       "      <td>NaN</td>\n",
       "      <td>Apparel</td>\n",
       "      <td>Dresses</td>\n",
       "      <td>Mini Dress</td>\n",
       "      <td>Burgundy</td>\n",
       "      <td>Winter</td>\n",
       "      <td>Casual</td>\n",
       "      <td>Female</td>\n",
       "      <td>/Users/alishasrivastava/Desktop/ML Pipeline/ex...</td>\n",
       "    </tr>\n",
       "    <tr>\n",
       "      <th>3</th>\n",
       "      <td>NaN</td>\n",
       "      <td>Apparel</td>\n",
       "      <td>Sweaters</td>\n",
       "      <td>Sweater</td>\n",
       "      <td>Maroon</td>\n",
       "      <td>Winter</td>\n",
       "      <td>Casual</td>\n",
       "      <td>Unisex</td>\n",
       "      <td>/Users/alishasrivastava/Desktop/ML Pipeline/ex...</td>\n",
       "    </tr>\n",
       "    <tr>\n",
       "      <th>4</th>\n",
       "      <td>NaN</td>\n",
       "      <td>Apparel</td>\n",
       "      <td>Sweaters</td>\n",
       "      <td>Cardigan</td>\n",
       "      <td>Grey</td>\n",
       "      <td>Winter</td>\n",
       "      <td>Casual</td>\n",
       "      <td>Unisex</td>\n",
       "      <td>/Users/alishasrivastava/Desktop/ML Pipeline/ex...</td>\n",
       "    </tr>\n",
       "  </tbody>\n",
       "</table>\n",
       "</div>"
      ],
      "text/plain": [
       "   Images Category  ...  Gender                                          img_paths\n",
       "0     NaN  Apparel  ...  Female  /Users/alishasrivastava/Desktop/ML Pipeline/ex...\n",
       "1     NaN  Apparel  ...  Unisex  /Users/alishasrivastava/Desktop/ML Pipeline/ex...\n",
       "2     NaN  Apparel  ...  Female  /Users/alishasrivastava/Desktop/ML Pipeline/ex...\n",
       "3     NaN  Apparel  ...  Unisex  /Users/alishasrivastava/Desktop/ML Pipeline/ex...\n",
       "4     NaN  Apparel  ...  Unisex  /Users/alishasrivastava/Desktop/ML Pipeline/ex...\n",
       "\n",
       "[5 rows x 9 columns]"
      ]
     },
     "execution_count": 4,
     "metadata": {},
     "output_type": "execute_result"
    }
   ],
   "source": [
    "data = pd.read_csv('/Users/alishasrivastava/Desktop/ML Pipeline/updated.csv')\n",
    "image_folder_path = '/Users/alishasrivastava/Desktop/ML Pipeline/extracted_images'\n",
    "data.head()\n"
   ]
  },
  {
   "cell_type": "code",
   "execution_count": 15,
   "metadata": {},
   "outputs": [],
   "source": [
    "image_column = 'img_paths'\n",
    "target_columns = ['Category', 'subCategory', 'articleType', 'Color', 'Season', 'Usage', 'Gender']  # target columns\n",
    "encoded_targets = {}\n",
    "for col in target_columns:\n",
    "    le = LabelEncoder()\n",
    "    data[col] = le.fit_transform(data[col])\n",
    "    encoded_targets[col] = le  # store the encoder for each column if needed for later decoding\n",
    "data['img_paths'] = data['img_paths'].apply(lambda x: f\"{x}.png\")"
   ]
  },
  {
   "cell_type": "code",
   "execution_count": 16,
   "metadata": {},
   "outputs": [
    {
     "name": "stdout",
     "output_type": "stream",
     "text": [
      "0    /Users/alishasrivastava/Desktop/ML Pipeline/ex...\n",
      "1    /Users/alishasrivastava/Desktop/ML Pipeline/ex...\n",
      "2    /Users/alishasrivastava/Desktop/ML Pipeline/ex...\n",
      "3    /Users/alishasrivastava/Desktop/ML Pipeline/ex...\n",
      "4    /Users/alishasrivastava/Desktop/ML Pipeline/ex...\n",
      "Name: img_paths, dtype: object\n"
     ]
    }
   ],
   "source": [
    "X = data[image_column]\n",
    "y = data[target_columns]\n",
    "y = pd.get_dummies(y, columns=target_columns)\n",
    "X_train, X_test, y_train, y_test = train_test_split(X, y, test_size=0.2, random_state=42)\n",
    "train_datagen = tf.keras.preprocessing.image.ImageDataGenerator(rescale=1./255)\n",
    "test_datagen = tf.keras.preprocessing.image.ImageDataGenerator(rescale=1./255)\n",
    "print(data[image_column].head())"
   ]
  },
  {
   "cell_type": "code",
   "execution_count": 17,
   "metadata": {},
   "outputs": [
    {
     "name": "stdout",
     "output_type": "stream",
     "text": [
      "Found 34 validated image filenames.\n",
      "Found 9 validated image filenames.\n"
     ]
    }
   ],
   "source": [
    "train_generator = train_datagen.flow_from_dataframe(\n",
    "    dataframe=pd.concat([X_train, y_train], axis=1),\n",
    "    directory=image_folder_path,\n",
    "    x_col=image_column,\n",
    "    y_col=y.columns.tolist(),  # Updated to handle all encoded columns\n",
    "    target_size=(224, 224),\n",
    "    batch_size=32,\n",
    "    class_mode='raw'  # For multi-output with one-hot encoding\n",
    ")\n",
    "test_generator = test_datagen.flow_from_dataframe(\n",
    "    dataframe=pd.concat([X_test, y_test], axis=1),\n",
    "    directory=image_folder_path,\n",
    "    x_col=image_column,\n",
    "    y_col=y.columns.tolist(),\n",
    "    target_size=(224, 224),\n",
    "    batch_size=32,\n",
    "    class_mode='raw'\n",
    ")"
   ]
  },
  {
   "cell_type": "code",
   "execution_count": 19,
   "metadata": {},
   "outputs": [],
   "source": [
    "model = tf.keras.models.Sequential([\n",
    "    tf.keras.layers.Input(shape=(224, 224, 3)),\n",
    "    tf.keras.layers.Conv2D(32, (3, 3), activation='relu'),\n",
    "    tf.keras.layers.MaxPooling2D((2, 2)),\n",
    "    tf.keras.layers.Conv2D(64, (3, 3), activation='relu'),\n",
    "    tf.keras.layers.MaxPooling2D((2, 2)),\n",
    "    tf.keras.layers.Conv2D(128, (3, 3), activation='relu'),\n",
    "    tf.keras.layers.MaxPooling2D((2, 2)),\n",
    "    tf.keras.layers.Flatten(),\n",
    "    tf.keras.layers.Dense(128, activation='relu'),\n",
    "    tf.keras.layers.Dense(y_train.shape[1], activation='softmax')  # single softmax output per encoded category\n",
    "])"
   ]
  },
  {
   "cell_type": "code",
   "execution_count": 20,
   "metadata": {},
   "outputs": [],
   "source": [
    "model.compile(optimizer='adam', loss='categorical_crossentropy', metrics=['accuracy'])"
   ]
  },
  {
   "cell_type": "code",
   "execution_count": 23,
   "metadata": {},
   "outputs": [
    {
     "name": "stdout",
     "output_type": "stream",
     "text": [
      "Epoch 1/10\n",
      "\u001b[1m2/2\u001b[0m \u001b[32m━━━━━━━━━━━━━━━━━━━━\u001b[0m\u001b[37m\u001b[0m \u001b[1m1s\u001b[0m 598ms/step - accuracy: 0.7206 - loss: 4641.7588 - val_accuracy: 0.0000e+00 - val_loss: 10385.0107\n",
      "Epoch 2/10\n",
      "\u001b[1m2/2\u001b[0m \u001b[32m━━━━━━━━━━━━━━━━━━━━\u001b[0m\u001b[37m\u001b[0m \u001b[1m1s\u001b[0m 153ms/step - accuracy: 0.0000e+00 - loss: 9759.2578 - val_accuracy: 0.7778 - val_loss: 20260.8359\n",
      "Epoch 3/10\n",
      "\u001b[1m2/2\u001b[0m \u001b[32m━━━━━━━━━━━━━━━━━━━━\u001b[0m\u001b[37m\u001b[0m \u001b[1m1s\u001b[0m 158ms/step - accuracy: 0.8002 - loss: 18747.7500 - val_accuracy: 0.0000e+00 - val_loss: 35537.2070\n",
      "Epoch 4/10\n",
      "\u001b[1m2/2\u001b[0m \u001b[32m━━━━━━━━━━━━━━━━━━━━\u001b[0m\u001b[37m\u001b[0m \u001b[1m1s\u001b[0m 155ms/step - accuracy: 0.0000e+00 - loss: 32414.4863 - val_accuracy: 0.0000e+00 - val_loss: 62233.1406\n",
      "Epoch 5/10\n",
      "\u001b[1m2/2\u001b[0m \u001b[32m━━━━━━━━━━━━━━━━━━━━\u001b[0m\u001b[37m\u001b[0m \u001b[1m1s\u001b[0m 153ms/step - accuracy: 0.0000e+00 - loss: 56650.9492 - val_accuracy: 0.0000e+00 - val_loss: 102320.5859\n",
      "Epoch 6/10\n",
      "\u001b[1m2/2\u001b[0m \u001b[32m━━━━━━━━━━━━━━━━━━━━\u001b[0m\u001b[37m\u001b[0m \u001b[1m1s\u001b[0m 697ms/step - accuracy: 0.0392 - loss: 115153.1250 - val_accuracy: 0.7778 - val_loss: 166554.3438\n",
      "Epoch 7/10\n",
      "\u001b[1m2/2\u001b[0m \u001b[32m━━━━━━━━━━━━━━━━━━━━\u001b[0m\u001b[37m\u001b[0m \u001b[1m1s\u001b[0m 185ms/step - accuracy: 0.8002 - loss: 148551.7188 - val_accuracy: 0.0000e+00 - val_loss: 260279.3594\n",
      "Epoch 8/10\n",
      "\u001b[1m2/2\u001b[0m \u001b[32m━━━━━━━━━━━━━━━━━━━━\u001b[0m\u001b[37m\u001b[0m \u001b[1m1s\u001b[0m 743ms/step - accuracy: 0.0000e+00 - loss: 248613.6250 - val_accuracy: 0.0000e+00 - val_loss: 393551.4688\n",
      "Epoch 9/10\n",
      "\u001b[1m2/2\u001b[0m \u001b[32m━━━━━━━━━━━━━━━━━━━━\u001b[0m\u001b[37m\u001b[0m \u001b[1m1s\u001b[0m 164ms/step - accuracy: 0.0000e+00 - loss: 345101.0938 - val_accuracy: 0.0000e+00 - val_loss: 592223.6250\n",
      "Epoch 10/10\n",
      "\u001b[1m2/2\u001b[0m \u001b[32m━━━━━━━━━━━━━━━━━━━━\u001b[0m\u001b[37m\u001b[0m \u001b[1m1s\u001b[0m 143ms/step - accuracy: 0.0196 - loss: 513774.0938 - val_accuracy: 0.7778 - val_loss: 871316.0625\n"
     ]
    }
   ],
   "source": [
    "history = model.fit(\n",
    "    train_generator,\n",
    "    validation_data=test_generator,\n",
    "    epochs=10\n",
    ")"
   ]
  },
  {
   "cell_type": "code",
   "execution_count": 24,
   "metadata": {},
   "outputs": [
    {
     "name": "stdout",
     "output_type": "stream",
     "text": [
      "\u001b[1m1/1\u001b[0m \u001b[32m━━━━━━━━━━━━━━━━━━━━\u001b[0m\u001b[37m\u001b[0m \u001b[1m0s\u001b[0m 116ms/step - accuracy: 0.7778 - loss: 871316.0625\n",
      "Test Accuracy: 0.7777777910232544\n"
     ]
    }
   ],
   "source": [
    "loss, accuracy = model.evaluate(test_generator)\n",
    "print(f\"Test Accuracy: {accuracy}\")"
   ]
  },
  {
   "cell_type": "code",
   "execution_count": null,
   "metadata": {},
   "outputs": [
    {
     "name": "stdout",
     "output_type": "stream",
     "text": [
      "\u001b[1m1/1\u001b[0m \u001b[32m━━━━━━━━━━━━━━━━━━━━\u001b[0m\u001b[37m\u001b[0m \u001b[1m0s\u001b[0m 24ms/step\n",
      "Predicted Labels: {'Category': 'Apparel', 'subCategory': 'Tops', 'articleType': 'Strapless Top', 'Color': 'Maroon', 'Season': 'Summer', 'Usage': 'Casual', 'Gender': 'Female'}\n"
     ]
    }
   ],
   "source": [
    "#trying one test case\n",
    "\n",
    "df = pd.read_csv('/Users/alishasrivastava/Desktop/ML Pipeline/updated.csv')\n",
    "row = df.iloc[0]\n",
    "path = row['img_paths']\n",
    "path = f'{path}.png'\n",
    "img = Image.open(path)\n",
    "if img.mode == 'RGBA':\n",
    "    img = img.convert('RGB')\n",
    "\n",
    "img = img.resize((224, 224))\n",
    "img_array = np.array(img)\n",
    "img_array = img_array / 255.0 \n",
    "img_array = np.expand_dims(img_array, axis=0)\n",
    "\n",
    "#predict\n",
    "prediction = model.predict(img_array)\n",
    "target_columns = ['Category', 'subCategory', 'articleType', 'Color', 'Season', 'Usage', 'Gender']\n",
    "predicted_labels = {}\n",
    "for i, col in enumerate(target_columns):\n",
    "    predicted_class_index = np.argmax(prediction[0][i])\n",
    "    predicted_labels[col] = df[col].unique()[predicted_class_index]\n",
    "\n",
    "print(f\"Predicted Labels: {predicted_labels}\")"
   ]
  },
  {
   "cell_type": "code",
   "execution_count": 41,
   "metadata": {},
   "outputs": [],
   "source": [
    "model.save('model.keras')"
   ]
  }
 ],
 "metadata": {
  "kernelspec": {
   "display_name": "hackUMass2",
   "language": "python",
   "name": "python3"
  },
  "language_info": {
   "codemirror_mode": {
    "name": "ipython",
    "version": 3
   },
   "file_extension": ".py",
   "mimetype": "text/x-python",
   "name": "python",
   "nbconvert_exporter": "python",
   "pygments_lexer": "ipython3",
   "version": "3.12.7"
  }
 },
 "nbformat": 4,
 "nbformat_minor": 2
}
